{
  "nbformat": 4,
  "nbformat_minor": 0,
  "metadata": {
    "colab": {
      "name": "exploratory-1.ipynb",
      "provenance": [],
      "include_colab_link": true
    },
    "kernelspec": {
      "display_name": "Python 3",
      "name": "python3"
    }
  },
  "cells": [
    {
      "cell_type": "markdown",
      "metadata": {
        "id": "view-in-github",
        "colab_type": "text"
      },
      "source": [
        "<a href=\"https://colab.research.google.com/github/joshuacalloway/2048-react/blob/master/exploratory_1.ipynb\" target=\"_parent\"><img src=\"https://colab.research.google.com/assets/colab-badge.svg\" alt=\"Open In Colab\"/></a>"
      ]
    },
    {
      "cell_type": "code",
      "metadata": {
        "colab": {
          "base_uri": "https://localhost:8080/"
        },
        "id": "NA9KrUwswdx4",
        "outputId": "45fe21e5-e174-4c8e-8501-b52c75ee92f3"
      },
      "source": [
        "!pip install fastbert"
      ],
      "execution_count": 4,
      "outputs": [
        {
          "output_type": "stream",
          "text": [
            "Requirement already satisfied: fastbert in /usr/local/lib/python3.6/dist-packages (0.2.0)\n",
            "Requirement already satisfied: torch>=1.0.0 in /usr/local/lib/python3.6/dist-packages (from fastbert) (1.7.0+cu101)\n",
            "Requirement already satisfied: future in /usr/local/lib/python3.6/dist-packages (from torch>=1.0.0->fastbert) (0.16.0)\n",
            "Requirement already satisfied: typing-extensions in /usr/local/lib/python3.6/dist-packages (from torch>=1.0.0->fastbert) (3.7.4.3)\n",
            "Requirement already satisfied: numpy in /usr/local/lib/python3.6/dist-packages (from torch>=1.0.0->fastbert) (1.19.5)\n",
            "Requirement already satisfied: dataclasses in /usr/local/lib/python3.6/dist-packages (from torch>=1.0.0->fastbert) (0.8)\n"
          ],
          "name": "stdout"
        }
      ]
    },
    {
      "cell_type": "markdown",
      "metadata": {
        "id": "IIprqb5kyDMZ"
      },
      "source": [
        "https://pypi.org/project/fastbert/"
      ]
    },
    {
      "cell_type": "code",
      "metadata": {
        "colab": {
          "base_uri": "https://localhost:8080/",
          "height": 562
        },
        "id": "K4ABShewxwxR",
        "outputId": "afc204c8-0b44-4806-edf9-ce8c8ca3fae3"
      },
      "source": [
        "from fastbert import FastBERT\n",
        "\n",
        "# Loading your dataset\n",
        "labels = ['T', 'F']\n",
        "sents_train = [\n",
        "    'Do you like FastBERT?',\n",
        "    'Yes, it runs faster than BERT!',\n",
        "    ...\n",
        "]\n",
        "labels_train = [\n",
        "    'T',\n",
        "    'F',\n",
        "    ...\n",
        "]\n",
        "\n",
        "# Creating a model\n",
        "model = FastBERT(\n",
        "    kernel_name=\"google_bert_base_en\",  # \"google_bert_base_zh\" for Chinese\n",
        "    labels=labels,\n",
        "    device='cuda:0'\n",
        ")\n",
        "\n",
        "# Training the model\n",
        "model.fit(\n",
        "    sents_train,\n",
        "    labels_train,\n",
        "    model_saving_path='./fastbert.bin',\n",
        ")\n",
        "\n",
        "# Loading the model and making inference\n",
        "model.load_model('./fastbert.bin')\n",
        "label, exec_layers = model('I like FastBERT', speed=0.7)"
      ],
      "execution_count": 11,
      "outputs": [
        {
          "output_type": "stream",
          "text": [
            "/root/.fastbert/google_bert_base_en.bin are not exist or md5 is wrong.\n",
            "Download google_bert_base_en file from http://www.weijieliu.com/download/papers/fastbert/google_bert_base_en.bin\n",
            "100.0% of 0.00M"
          ],
          "name": "stdout"
        },
        {
          "output_type": "error",
          "ename": "Exception",
          "evalue": "ignored",
          "traceback": [
            "\u001b[0;31m---------------------------------------------------------------------------\u001b[0m",
            "\u001b[0;31mException\u001b[0m                                 Traceback (most recent call last)",
            "\u001b[0;32m/usr/local/lib/python3.6/dist-packages/fastbert/utils.py\u001b[0m in \u001b[0;36mcheck_or_download\u001b[0;34m(file_path, file_url, file_md5, file_name, file_url_bak)\u001b[0m\n\u001b[1;32m     86\u001b[0m             \u001b[0;32melse\u001b[0m\u001b[0;34m:\u001b[0m\u001b[0;34m\u001b[0m\u001b[0;34m\u001b[0m\u001b[0m\n\u001b[0;32m---> 87\u001b[0;31m                 \u001b[0;32mraise\u001b[0m \u001b[0mException\u001b[0m\u001b[0;34m(\u001b[0m\u001b[0;34m\"Md5 wrong.\"\u001b[0m\u001b[0;34m)\u001b[0m\u001b[0;34m\u001b[0m\u001b[0;34m\u001b[0m\u001b[0m\n\u001b[0m\u001b[1;32m     88\u001b[0m         \u001b[0;32mexcept\u001b[0m \u001b[0mException\u001b[0m \u001b[0;32mas\u001b[0m \u001b[0merror\u001b[0m\u001b[0;34m:\u001b[0m\u001b[0;34m\u001b[0m\u001b[0;34m\u001b[0m\u001b[0m\n",
            "\u001b[0;31mException\u001b[0m: Md5 wrong.",
            "\nDuring handling of the above exception, another exception occurred:\n",
            "\u001b[0;31mException\u001b[0m                                 Traceback (most recent call last)",
            "\u001b[0;32m<ipython-input-11-3615bd3dc399>\u001b[0m in \u001b[0;36m<module>\u001b[0;34m()\u001b[0m\n\u001b[1;32m     18\u001b[0m     \u001b[0mkernel_name\u001b[0m\u001b[0;34m=\u001b[0m\u001b[0;34m\"google_bert_base_en\"\u001b[0m\u001b[0;34m,\u001b[0m  \u001b[0;31m# \"google_bert_base_zh\" for Chinese\u001b[0m\u001b[0;34m\u001b[0m\u001b[0;34m\u001b[0m\u001b[0m\n\u001b[1;32m     19\u001b[0m     \u001b[0mlabels\u001b[0m\u001b[0;34m=\u001b[0m\u001b[0mlabels\u001b[0m\u001b[0;34m,\u001b[0m\u001b[0;34m\u001b[0m\u001b[0;34m\u001b[0m\u001b[0m\n\u001b[0;32m---> 20\u001b[0;31m     \u001b[0mdevice\u001b[0m\u001b[0;34m=\u001b[0m\u001b[0;34m'cuda:0'\u001b[0m\u001b[0;34m\u001b[0m\u001b[0;34m\u001b[0m\u001b[0m\n\u001b[0m\u001b[1;32m     21\u001b[0m )\n\u001b[1;32m     22\u001b[0m \u001b[0;34m\u001b[0m\u001b[0m\n",
            "\u001b[0;32m/usr/local/lib/python3.6/dist-packages/fastbert/fastbert.py\u001b[0m in \u001b[0;36m__init__\u001b[0;34m(self, kernel_name, labels, **kwargs)\u001b[0m\n\u001b[1;32m    106\u001b[0m                     \u001b[0mself\u001b[0m\u001b[0;34m.\u001b[0m\u001b[0margs\u001b[0m\u001b[0;34m.\u001b[0m\u001b[0mpretrained_model_md5\u001b[0m\u001b[0;34m,\u001b[0m\u001b[0;34m\u001b[0m\u001b[0;34m\u001b[0m\u001b[0m\n\u001b[1;32m    107\u001b[0m                     \u001b[0mkernel_name\u001b[0m\u001b[0;34m,\u001b[0m\u001b[0;34m\u001b[0m\u001b[0;34m\u001b[0m\u001b[0m\n\u001b[0;32m--> 108\u001b[0;31m                     self.args.pretrained_model_url_bak)\n\u001b[0m\u001b[1;32m    109\u001b[0m             self.kernel.load_state_dict(\n\u001b[1;32m    110\u001b[0m                     torch.load(self.args.pretrained_model_path,\n",
            "\u001b[0;32m/usr/local/lib/python3.6/dist-packages/fastbert/utils.py\u001b[0m in \u001b[0;36mcheck_or_download\u001b[0;34m(file_path, file_url, file_md5, file_name, file_url_bak)\u001b[0m\n\u001b[1;32m     93\u001b[0m                 \u001b[0;34m\"URL_A: {}\\nURL_B:{}\\nPATH: {} \"\u001b[0m\u001b[0;34m.\u001b[0m\u001b[0;31m \u001b[0m\u001b[0;31m\\\u001b[0m\u001b[0;34m\u001b[0m\u001b[0;34m\u001b[0m\u001b[0m\n\u001b[1;32m     94\u001b[0m                 \u001b[0mformat\u001b[0m\u001b[0;34m(\u001b[0m\u001b[0mfile_url\u001b[0m\u001b[0;34m,\u001b[0m \u001b[0mfile_url_bak\u001b[0m\u001b[0;34m,\u001b[0m \u001b[0mfile_path\u001b[0m\u001b[0;34m)\u001b[0m\u001b[0;34m\u001b[0m\u001b[0;34m\u001b[0m\u001b[0m\n\u001b[0;32m---> 95\u001b[0;31m             \u001b[0;32mraise\u001b[0m \u001b[0mException\u001b[0m\u001b[0;34m(\u001b[0m\u001b[0minfos\u001b[0m \u001b[0;34m+\u001b[0m \u001b[0;34m'\\n'\u001b[0m \u001b[0;34m+\u001b[0m \u001b[0moptions\u001b[0m\u001b[0;34m)\u001b[0m\u001b[0;34m\u001b[0m\u001b[0;34m\u001b[0m\u001b[0m\n\u001b[0m\u001b[1;32m     96\u001b[0m \u001b[0;34m\u001b[0m\u001b[0m\n\u001b[1;32m     97\u001b[0m \u001b[0;34m\u001b[0m\u001b[0m\n",
            "\u001b[0;31mException\u001b[0m: \n[Error]: Download google_bert_base_en file failed!\n[Option]: You can download the file from [URL_A] or [URL_B], and save it as [PATH] by yourself. \nURL_A: http://www.weijieliu.com/download/papers/fastbert/google_bert_base_en.bin\nURL_B:https://share.weiyun.com/fpdOtcmz\nPATH: /root/.fastbert/google_bert_base_en.bin "
          ]
        }
      ]
    },
    {
      "cell_type": "code",
      "metadata": {
        "colab": {
          "base_uri": "https://localhost:8080/"
        },
        "id": "Y5sAeY0N0Bdf",
        "outputId": "25974e68-5cdb-4b04-8187-d76193a937a8"
      },
      "source": [
        "!wget https://share.weiyun.com/fpdOtcmz"
      ],
      "execution_count": 8,
      "outputs": [
        {
          "output_type": "stream",
          "text": [
            "--2021-02-22 03:37:29--  https://share.weiyun.com/fpdOtcmz\n",
            "Resolving share.weiyun.com (share.weiyun.com)... 116.128.164.37, 2409:8c54:1050:10::81\n",
            "Connecting to share.weiyun.com (share.weiyun.com)|116.128.164.37|:443... connected.\n",
            "HTTP request sent, awaiting response... 200 OK\n",
            "Length: unspecified [text/html]\n",
            "Saving to: ‘fpdOtcmz’\n",
            "\n",
            "fpdOtcmz                [  <=>               ]  14.89K  65.4KB/s    in 0.2s    \n",
            "\n",
            "2021-02-22 03:37:32 (65.4 KB/s) - ‘fpdOtcmz’ saved [15250]\n",
            "\n"
          ],
          "name": "stdout"
        }
      ]
    },
    {
      "cell_type": "code",
      "metadata": {
        "id": "gWHQdLTuzFas",
        "colab": {
          "base_uri": "https://localhost:8080/"
        },
        "outputId": "25ab7452-dbb5-4a9a-c401-9073ce40a27c"
      },
      "source": [
        "!wget http://www.weijieliu.com/download/papers/fastbert/google_bert_base_en.bin /root/.fastbert/google_bert_base_en.bin "
      ],
      "execution_count": 10,
      "outputs": [
        {
          "output_type": "stream",
          "text": [
            "--2021-02-22 03:37:55--  http://www.weijieliu.com/download/papers/fastbert/google_bert_base_en.bin\n",
            "Resolving www.weijieliu.com (www.weijieliu.com)... 82.156.164.107\n",
            "Connecting to www.weijieliu.com (www.weijieliu.com)|82.156.164.107|:80... connected.\n",
            "HTTP request sent, awaiting response... 302 OK\n",
            "Location: https://dnspod.qcloud.com/static/webblock.html?d=www.weijieliu.com [following]\n",
            "--2021-02-22 03:37:57--  https://dnspod.qcloud.com/static/webblock.html?d=www.weijieliu.com\n",
            "Resolving dnspod.qcloud.com (dnspod.qcloud.com)... 211.152.146.99, 211.152.146.86, 211.152.146.87, ...\n",
            "Connecting to dnspod.qcloud.com (dnspod.qcloud.com)|211.152.146.99|:443... connected.\n",
            "HTTP request sent, awaiting response... 200 OK\n",
            "Length: 3159 (3.1K) [text/html]\n",
            "Saving to: ‘google_bert_base_en.bin.1’\n",
            "\n",
            "google_bert_base_en 100%[===================>]   3.08K  --.-KB/s    in 0s      \n",
            "\n",
            "2021-02-22 03:37:59 (549 MB/s) - ‘google_bert_base_en.bin.1’ saved [3159/3159]\n",
            "\n",
            "/root/.fastbert/google_bert_base_en.bin: Scheme missing.\n",
            "FINISHED --2021-02-22 03:37:59--\n",
            "Total wall clock time: 3.4s\n",
            "Downloaded: 1 files, 3.1K in 0s (549 MB/s)\n"
          ],
          "name": "stdout"
        }
      ]
    }
  ]
}